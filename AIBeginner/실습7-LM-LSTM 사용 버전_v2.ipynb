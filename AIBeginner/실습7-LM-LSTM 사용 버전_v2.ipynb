{
 "cells": [
  {
   "cell_type": "markdown",
   "metadata": {},
   "source": [
    "> 이 문서의 폰트크기는 브라우저 인쇄시 인쇄 배율 80%로 최적화 되어 있음"
   ]
  },
  {
   "cell_type": "markdown",
   "metadata": {},
   "source": [
    "## 이 부분은 강의 내용과 관계 없지만 여기서부터 실행 시키세요.(Time stamp 프로그램)"
   ]
  },
  {
   "cell_type": "code",
   "execution_count": 1,
   "metadata": {},
   "outputs": [],
   "source": [
    "import time\n",
    "\n",
    "a=[]\n",
    "\n",
    "def timestamp():\n",
    "    now = time.time()\n",
    "    now = time.localtime(now)\n",
    "    a.append(now)\n",
    "    return\n",
    "\n",
    "timestamp()"
   ]
  },
  {
   "cell_type": "code",
   "execution_count": 2,
   "metadata": {},
   "outputs": [],
   "source": [
    "# multi line 출력을 위한 셀 -- 필요시 주석해제 후 이 셀을 실행시키기 바람\n",
    "#from IPython.core.interactiveshell import InteractiveShell\n",
    "#InteractiveShell.ast_node_interactivity = \"all\""
   ]
  },
  {
   "cell_type": "markdown",
   "metadata": {},
   "source": [
    "#  Language Model  : nn.LSTM 사용 버전\n",
    "\n",
    "> 1. 훈련데이터 전처리하기\n",
    "> 2. 모델 제작\n",
    "> 3. 모델 훈련\n",
    "     \n",
    "\n",
    "# 1. 학습데이터 제작"
   ]
  },
  {
   "cell_type": "code",
   "execution_count": 3,
   "metadata": {},
   "outputs": [],
   "source": [
    "import torch\n",
    "import torch.nn as nn\n",
    "import torch.optim as optim\n",
    "\n",
    "import numpy as np\n",
    "import matplotlib.pyplot as plt"
   ]
  },
  {
   "cell_type": "markdown",
   "metadata": {},
   "source": [
    "## (1) 원시 코퍼스\n",
    "- 여기서는 단순히 한개의 문장을 포함한 문자열을 원시 코퍼스로 활용"
   ]
  },
  {
   "cell_type": "code",
   "execution_count": 4,
   "metadata": {},
   "outputs": [],
   "source": [
    "corpus = \"Honest is the best policy for success\""
   ]
  },
  {
   "cell_type": "markdown",
   "metadata": {},
   "source": [
    "## (2) 토큰화 코퍼스 제작"
   ]
  },
  {
   "cell_type": "code",
   "execution_count": 5,
   "metadata": {},
   "outputs": [
    {
     "data": {
      "text/plain": [
       "['Honest', 'is', 'the', 'best', 'policy', 'for', 'success']"
      ]
     },
     "execution_count": 5,
     "metadata": {},
     "output_type": "execute_result"
    }
   ],
   "source": [
    "corpus_tokenized = corpus.split()\n",
    "corpus_tokenized"
   ]
  },
  {
   "cell_type": "markdown",
   "metadata": {},
   "source": [
    "## (2) 어휘집 제작"
   ]
  },
  {
   "cell_type": "markdown",
   "metadata": {},
   "source": [
    "### word2id 제작"
   ]
  },
  {
   "cell_type": "code",
   "execution_count": 6,
   "metadata": {},
   "outputs": [],
   "source": [
    "word2id = {tkn: i for i, tkn in enumerate(corpus_tokenized, 1)}  # 단어에 고유한 정수 부여\n",
    "word2id['<unk>'] = 0"
   ]
  },
  {
   "cell_type": "code",
   "execution_count": 7,
   "metadata": {},
   "outputs": [
    {
     "name": "stdout",
     "output_type": "stream",
     "text": [
      "8\n",
      "{'Honest': 1, 'is': 2, 'the': 3, 'best': 4, 'policy': 5, 'for': 6, 'success': 7, '<unk>': 0}\n",
      "5\n"
     ]
    }
   ],
   "source": [
    "print(len(word2id))\n",
    "print(word2id)\n",
    "print(word2id['policy'])"
   ]
  },
  {
   "cell_type": "markdown",
   "metadata": {},
   "source": [
    "### id2word 제작"
   ]
  },
  {
   "cell_type": "code",
   "execution_count": 8,
   "metadata": {},
   "outputs": [
    {
     "name": "stdout",
     "output_type": "stream",
     "text": [
      "{1: 'Honest', 2: 'is', 3: 'the', 4: 'best', 5: 'policy', 6: 'for', 7: 'success', 0: '<unk>'}\n"
     ]
    }
   ],
   "source": [
    "# ID를 단어로 바꾸기 위한 사전\n",
    "id2word = {v: k for k, v in word2id.items()}\n",
    "print(id2word)"
   ]
  },
  {
   "cell_type": "code",
   "execution_count": 9,
   "metadata": {},
   "outputs": [
    {
     "name": "stdout",
     "output_type": "stream",
     "text": [
      "8\n",
      "best\n"
     ]
    }
   ],
   "source": [
    "print(len(id2word))\n",
    "print(id2word[4])"
   ]
  },
  {
   "cell_type": "markdown",
   "metadata": {},
   "source": [
    "## (3)  코드화 코퍼스 제작"
   ]
  },
  {
   "cell_type": "code",
   "execution_count": 10,
   "metadata": {},
   "outputs": [],
   "source": [
    "corpus_encoded = [word2id[token] for token in corpus_tokenized] # 각 문자를 코드로 변환. "
   ]
  },
  {
   "cell_type": "code",
   "execution_count": 11,
   "metadata": {},
   "outputs": [
    {
     "name": "stdout",
     "output_type": "stream",
     "text": [
      "[1, 2, 3, 4, 5, 6, 7]\n"
     ]
    }
   ],
   "source": [
    "print(corpus_encoded)"
   ]
  },
  {
   "cell_type": "markdown",
   "metadata": {},
   "source": [
    "## (4) 학습데이터 제작"
   ]
  },
  {
   "cell_type": "code",
   "execution_count": 12,
   "metadata": {},
   "outputs": [],
   "source": [
    "input_seq, label_seq = corpus_encoded[:-1], corpus_encoded[1:] # 입력 시퀀스와 레이블 시퀀스를 분리\n",
    "\n",
    "X = torch.LongTensor(input_seq).unsqueeze(0) # 배치 차원 추가\n",
    "Y = torch.LongTensor(label_seq).unsqueeze(0) # 배치 차원 추가"
   ]
  },
  {
   "cell_type": "code",
   "execution_count": 13,
   "metadata": {},
   "outputs": [
    {
     "name": "stdout",
     "output_type": "stream",
     "text": [
      "tensor([[1, 2, 3, 4, 5, 6]])\n",
      "tensor([[2, 3, 4, 5, 6, 7]])\n"
     ]
    }
   ],
   "source": [
    "print(X)\n",
    "print(Y)"
   ]
  },
  {
   "cell_type": "markdown",
   "metadata": {},
   "source": [
    "# 2. 모델 제작"
   ]
  },
  {
   "cell_type": "code",
   "execution_count": 14,
   "metadata": {},
   "outputs": [],
   "source": [
    "class Net(nn.Module):\n",
    "    def __init__(self, vocab_size, input_size, hidden_size, batch_first=True):\n",
    "        super(Net, self).__init__()\n",
    "        self.embedding_layer = nn.Embedding(num_embeddings=vocab_size, #\n",
    "                                            embedding_dim=input_size)\n",
    "        self.rnn_layer = nn.LSTM(input_size, \n",
    "                                hidden_size, \n",
    "                                batch_first=batch_first)\n",
    "        self.linear = nn.Linear(hidden_size, vocab_size) \n",
    "        \n",
    "    def forward(self, x):\n",
    "        ## 1. 임베딩 층\n",
    "        # x : (배치 크기, 시퀀스 길이) => output : (배치 크기, 시퀀스 길이, 임베딩 차원)\n",
    "        x_emb = self.embedding_layer(x)\n",
    "        \n",
    "        ## 2. RNN 층\n",
    "        # output : (배치 크기, 시퀀스 길이, 은닉층 크기)\n",
    "        # hidden (1, 배치 크기, 은닉층 크기)\n",
    "        output, hidden = self.rnn_layer(x_emb)\n",
    "        \n",
    "        ## 3. 최종 출력층\n",
    "        # output : (배치 크기, 시퀀스 길이, 단어장 크기)\n",
    "        output = self.linear(output)\n",
    "        \n",
    "        # 4. 배치 차원 제거\n",
    "        # 반환값  : (배치 크기*시퀀스 길이, 단어장 크기)\n",
    "        return output.view(-1, output.size(2))"
   ]
  },
  {
   "cell_type": "code",
   "execution_count": 15,
   "metadata": {},
   "outputs": [],
   "source": [
    "# 하이퍼 파라미터\n",
    "VOCAB_SIZE = len(word2id)  # 단어장의 크기, 임베딩 층, 최종 출력층에 사용\n",
    "INPUT_SIZE = 5             # 임베딩 된 차원의 크기 및 RNN 층 입력 차원\n",
    "HIDDEN_SIZE= 20            # RNN의 은닉층 크기"
   ]
  },
  {
   "cell_type": "code",
   "execution_count": 16,
   "metadata": {},
   "outputs": [],
   "source": [
    "# 모델 생성\n",
    "model = Net(VOCAB_SIZE, INPUT_SIZE, HIDDEN_SIZE, batch_first=True)\n",
    "\n",
    "# 손실함수 정의\n",
    "loss_function = nn.CrossEntropyLoss() # 소프트맥스 함수 + CEE \n",
    "\n",
    "# 옵티마이저 정의\n",
    "optimizer = optim.Adam(params=model.parameters())"
   ]
  },
  {
   "cell_type": "markdown",
   "metadata": {},
   "source": [
    "### 점검하기"
   ]
  },
  {
   "cell_type": "code",
   "execution_count": 17,
   "metadata": {},
   "outputs": [
    {
     "name": "stdout",
     "output_type": "stream",
     "text": [
      "tensor([[-0.1516, -0.0273, -0.1621,  0.1031, -0.0324,  0.0226,  0.0275, -0.1633],\n",
      "        [-0.1636,  0.0468, -0.1166,  0.1207, -0.0282,  0.0340,  0.0683, -0.1438],\n",
      "        [-0.1491,  0.0954, -0.1149,  0.1213, -0.0020, -0.0034,  0.0709, -0.0754],\n",
      "        [-0.1175,  0.1063, -0.1009,  0.1725,  0.0546,  0.0365,  0.0463, -0.1085],\n",
      "        [-0.1383,  0.0622, -0.1160,  0.1517,  0.0108,  0.0563,  0.0899, -0.1160],\n",
      "        [-0.1638,  0.1184, -0.1012,  0.1754,  0.0083,  0.0251,  0.0801, -0.0790]],\n",
      "       grad_fn=<ViewBackward0>)\n",
      "torch.Size([6, 8])\n"
     ]
    }
   ],
   "source": [
    "# 훈련 데이터로 로 예측해보기. 가중치는 전부 랜덤 초기화 된 상태\n",
    "output = model(X)\n",
    "\n",
    "print(output)\n",
    "print(output.shape)"
   ]
  },
  {
   "cell_type": "code",
   "execution_count": 18,
   "metadata": {},
   "outputs": [],
   "source": [
    "# 코드 시퀀스 y를 단어 시퀀스로 변경하는 함수\n",
    "decode = lambda y: [id2word.get(x) for x in y]"
   ]
  },
  {
   "cell_type": "code",
   "execution_count": 19,
   "metadata": {},
   "outputs": [],
   "source": [
    "timestamp()"
   ]
  },
  {
   "cell_type": "markdown",
   "metadata": {},
   "source": [
    "# 3. 모델 훈련"
   ]
  },
  {
   "cell_type": "code",
   "execution_count": 20,
   "metadata": {},
   "outputs": [
    {
     "name": "stdout",
     "output_type": "stream",
     "text": [
      "  Epoch   Loss              출력\n",
      "[001/200] 2.07400   Honest the the the the the the\n",
      "[021/200] 2.00406   Honest the the the policy for the\n",
      "[041/200] 1.91915   Honest the the best policy for policy\n",
      "[061/200] 1.78784   Honest the the best policy for success\n",
      "[081/200] 1.58726   Honest policy policy best policy for success\n",
      "[101/200] 1.35020   Honest is the best policy for success\n",
      "[121/200] 1.10691   Honest is the best policy for success\n",
      "[141/200] 0.88001   Honest is the best policy for success\n",
      "[161/200] 0.69061   Honest is the best policy for success\n",
      "[181/200] 0.53812   Honest is the best policy for success\n"
     ]
    }
   ],
   "source": [
    "EPOCHS = 200\n",
    "_INTERVAL = EPOCHS/10\n",
    "\n",
    "log_train_loss = []\n",
    "\n",
    "print('  Epoch   Loss              출력')\n",
    "    \n",
    "# 훈련 시작\n",
    "for i in range(EPOCHS):\n",
    "    optimizer.zero_grad()   # 기울기 초기화\n",
    "    \n",
    "    # 순방향 전파 및 손실값 계산\n",
    "    output = model(X)\n",
    "    loss = loss_function(output, Y.view(-1))  \n",
    "    log_train_loss.append(loss.item()) # 로그 저장\n",
    "    \n",
    "    # 역방향 전파 및 가중치 갱신\n",
    "    loss.backward()\n",
    "    optimizer.step()\n",
    "        \n",
    "    if i % _INTERVAL  == 0:\n",
    "        print(\"[{:03d}/{:3d}] {:1.5f} \".format(i+1, EPOCHS, loss), end='')\n",
    "        pred = output.softmax(-1).argmax(-1).tolist()\n",
    "        print(\" \", \" \".join([id2word[X[0, 0].item()]] + decode(pred)))  #[\"Honest\"]\n"
   ]
  },
  {
   "cell_type": "code",
   "execution_count": 21,
   "metadata": {},
   "outputs": [],
   "source": [
    "timestamp()"
   ]
  },
  {
   "cell_type": "markdown",
   "metadata": {},
   "source": [
    "### 훈련 과정의 에러(손실)을 그래프로 나타내기"
   ]
  },
  {
   "cell_type": "code",
   "execution_count": 22,
   "metadata": {},
   "outputs": [
    {
     "data": {
      "image/png": "[encoded data removed]",
      "text/plain": [
       "<Figure size 640x480 with 1 Axes>"
      ]
     },
     "metadata": {},
     "output_type": "display_data"
    }
   ],
   "source": [
    "markers = {'train': 'o'}\n",
    "x = np.arange(len(log_train_loss))\n",
    "plt.plot(x, log_train_loss, label='train loss')\n",
    "plt.title(\"Train loss\")\n",
    "plt.xlabel(\"Epochs\")\n",
    "plt.ylabel(\"Loss\")\n",
    "#plt.ylim(0, 2.5)\n",
    "plt.grid(True, ls=\":\", lw=0.5)\n",
    "plt.legend(loc='upper right')\n",
    "\n",
    "plt.show()"
   ]
  },
  {
   "cell_type": "code",
   "execution_count": 23,
   "metadata": {},
   "outputs": [],
   "source": [
    "timestamp()"
   ]
  },
  {
   "cell_type": "code",
   "execution_count": 24,
   "metadata": {},
   "outputs": [
    {
     "name": "stdout",
     "output_type": "stream",
     "text": [
      "2023년 5월 23일 22시 9분 9초\n",
      "2023년 5월 23일 22시 9분 22초\n",
      "2023년 5월 23일 22시 9분 23초\n",
      "2023년 5월 23일 22시 9분 25초\n"
     ]
    }
   ],
   "source": [
    "for i in a:\n",
    "    now = time.strftime('%Y년 %#m월 %#d일 %#H시 %#M분 %#S초', i)\n",
    "    print(now)"
   ]
  },
  {
   "cell_type": "markdown",
   "metadata": {},
   "source": [
    "### 이 부분은 강의 내용과 관계 없는 부분이지만 끝까지 실행시키세요(Timestamp와 Mac address hash code 인쇄)"
   ]
  },
  {
   "cell_type": "code",
   "execution_count": 25,
   "metadata": {},
   "outputs": [
    {
     "name": "stdout",
     "output_type": "stream",
     "text": [
      "31719826\n"
     ]
    }
   ],
   "source": [
    "from uuid import getnode as get_mac\n",
    "mac = get_mac()\n",
    "mac_addr=str(mac)\n",
    "import hashlib\n",
    "hash_object= hashlib.sha1(mac_addr.encode('utf-8'))\n",
    "signature = int(hash_object.hexdigest(), 16) % 10**8\n",
    "print(str(signature))"
   ]
  },
  {
   "cell_type": "code",
   "execution_count": null,
   "metadata": {},
   "outputs": [],
   "source": []
  }
 ],
 "metadata": {
  "accelerator": "GPU",
  "colab": {
   "collapsed_sections": [],
   "name": "PyTorch_chapter1.ipynb",
   "provenance": [
    {
     "file_id": "1uoOWiCZ8I3qClWEt4N0A0EO0OjOjWZwf",
     "timestamp": 1543828054136
    }
   ],
   "version": "0.3.2"
  },
  "kernelspec": {
   "display_name": "Python 3 (ipykernel)",
   "language": "python",
   "name": "python3"
  },
  "language_info": {
   "codemirror_mode": {
    "name": "ipython",
    "version": 3
   },
   "file_extension": ".py",
   "mimetype": "text/x-python",
   "name": "python",
   "nbconvert_exporter": "python",
   "pygments_lexer": "ipython3",
   "version": "3.10.9"
  }
 },
 "nbformat": 4,
 "nbformat_minor": 1
}

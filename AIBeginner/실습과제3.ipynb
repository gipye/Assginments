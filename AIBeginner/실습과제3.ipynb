{
 "cells": [
  {
   "cell_type": "markdown",
   "metadata": {},
   "source": [
    "## 이 부분은 강의 내용과 관계 없지만 여기서부터 실행 시키세요.(Time stamp 프로그램)"
   ]
  },
  {
   "cell_type": "code",
   "execution_count": 1,
   "metadata": {},
   "outputs": [],
   "source": [
    "import time\n",
    "\n",
    "a=[]\n",
    "\n",
    "def timestamp():\n",
    "    now = time.time()\n",
    "    now = time.localtime(now)\n",
    "    a.append(now)\n",
    "    return\n",
    "\n",
    "timestamp()"
   ]
  },
  {
   "cell_type": "markdown",
   "metadata": {},
   "source": [
    "\n"
   ]
  },
  {
   "cell_type": "markdown",
   "metadata": {},
   "source": [
    "# 파트 1 : 파이썬 실습\n",
    "\n",
    "> 1. 상수   \n",
    "> 2. 변수   \n",
    "> 3. 조건문   \n",
    "> 4. 반복문\n",
    "\n",
    "- 이 실습은 파이썬 프로그램을 작성 사례에 대한 극히 간단한 실습임\n",
    "- 각 코드셀을 선택한 후 Run 아이콘 또는 Ctrl Enter를 클릭하면 셀이 실행됨   \n",
    "  (기타 자세한 내용은 주피터노트북 사용법 강의 참조)\n",
    "- Cell-> Run All 을 클릭하면 이 주피터노트북의 모든 셀이 차례로 모두 실행됨\n",
    "- 각 코드셀 내의 숫자 등을 변경해서 실행을 시켜 결과를 확인해 보기 바람 "
   ]
  },
  {
   "cell_type": "markdown",
   "metadata": {},
   "source": [
    "### 1. 상수\n",
    "- 상수는 산술연산식 등의 표현식에 사용될 수 있음\n",
    "- 산술연산자 : +, -, \\*(곱), /, //(몫), %(나머지), \\*\\*(제곱)"
   ]
  },
  {
   "cell_type": "markdown",
   "metadata": {},
   "source": [
    "#### 정수의 합"
   ]
  },
  {
   "cell_type": "code",
   "execution_count": 2,
   "metadata": {},
   "outputs": [
    {
     "name": "stdout",
     "output_type": "stream",
     "text": [
      "3\n"
     ]
    }
   ],
   "source": [
    "print(1 + 2)"
   ]
  },
  {
   "cell_type": "markdown",
   "metadata": {},
   "source": [
    "#### 실수의 곱"
   ]
  },
  {
   "cell_type": "code",
   "execution_count": 3,
   "metadata": {},
   "outputs": [
    {
     "name": "stdout",
     "output_type": "stream",
     "text": [
      "21.159999999999997\n"
     ]
    }
   ],
   "source": [
    "print(2.3 * 9.2)"
   ]
  },
  {
   "cell_type": "markdown",
   "metadata": {},
   "source": [
    "#### 글자와 문자열"
   ]
  },
  {
   "cell_type": "code",
   "execution_count": 4,
   "metadata": {},
   "outputs": [
    {
     "name": "stdout",
     "output_type": "stream",
     "text": [
      "A\n",
      "ABC\n"
     ]
    }
   ],
   "source": [
    "print('A')\n",
    "print('ABC')"
   ]
  },
  {
   "cell_type": "markdown",
   "metadata": {},
   "source": [
    "### 2. 변수\n"
   ]
  },
  {
   "cell_type": "code",
   "execution_count": 5,
   "metadata": {
    "scrolled": true
   },
   "outputs": [
    {
     "name": "stdout",
     "output_type": "stream",
     "text": [
      "3\n",
      "2\n",
      "5\n"
     ]
    }
   ],
   "source": [
    "x = 3\n",
    "y = 2\n",
    "z = x + y\n",
    "print(x)\n",
    "print(y)\n",
    "print(z)"
   ]
  },
  {
   "cell_type": "markdown",
   "metadata": {},
   "source": [
    "### 3. 조건문"
   ]
  },
  {
   "cell_type": "code",
   "execution_count": 6,
   "metadata": {},
   "outputs": [
    {
     "name": "stdout",
     "output_type": "stream",
     "text": [
      "11\n"
     ]
    }
   ],
   "source": [
    "x = 2\n",
    "if x < 3:\n",
    "    y = 1\n",
    "else:\n",
    "    y = 2\n",
    "z = y + 10\n",
    "\n",
    "print(z)"
   ]
  },
  {
   "cell_type": "code",
   "execution_count": 7,
   "metadata": {},
   "outputs": [
    {
     "name": "stdout",
     "output_type": "stream",
     "text": [
      "12\n"
     ]
    }
   ],
   "source": [
    "x = 4\n",
    "if x < 3:\n",
    "    y = 1\n",
    "else:\n",
    "    y = 2\n",
    "z = y + 10\n",
    "\n",
    "print(z)"
   ]
  },
  {
   "cell_type": "markdown",
   "metadata": {},
   "source": [
    "### 4. 반복문"
   ]
  },
  {
   "cell_type": "code",
   "execution_count": 8,
   "metadata": {},
   "outputs": [
    {
     "name": "stdout",
     "output_type": "stream",
     "text": [
      "115\n"
     ]
    }
   ],
   "source": [
    "y = 100\n",
    "x = [1, 2, 3, 4, 5]\n",
    "for  i  in x :\n",
    "    y = y + i\n",
    "    \n",
    "print(y)"
   ]
  },
  {
   "cell_type": "markdown",
   "metadata": {},
   "source": [
    "\n",
    "\n",
    "\n",
    "\n",
    "\n"
   ]
  },
  {
   "cell_type": "code",
   "execution_count": 9,
   "metadata": {},
   "outputs": [],
   "source": [
    "timestamp()"
   ]
  },
  {
   "cell_type": "markdown",
   "metadata": {},
   "source": [
    "# 파트 2 : 넘파이(Numpy)와 Matplotlib \n",
    "> 1. 넘파이(numpy) \n",
    "> 2. Matplotlib"
   ]
  },
  {
   "cell_type": "markdown",
   "metadata": {},
   "source": [
    "## 1. 넘파이(Numpy)  \n",
    "\n",
    ">   1.1 넘파이 배열 생성  \n",
    ">   1.2 배열의 산술연산   \n",
    ">   1.3 벡터 내적   \n",
    ">   1.4 행렬곱   "
   ]
  },
  {
   "cell_type": "markdown",
   "metadata": {},
   "source": [
    "### 1.1 넘파이 배열 생성"
   ]
  },
  {
   "cell_type": "code",
   "execution_count": 10,
   "metadata": {},
   "outputs": [],
   "source": [
    "import numpy as np"
   ]
  },
  {
   "cell_type": "markdown",
   "metadata": {},
   "source": [
    "### 1차원 배열 생성"
   ]
  },
  {
   "cell_type": "code",
   "execution_count": 11,
   "metadata": {},
   "outputs": [
    {
     "data": {
      "text/plain": [
       "array([ 0, 10, 20, 30, 40, 50])"
      ]
     },
     "execution_count": 11,
     "metadata": {},
     "output_type": "execute_result"
    }
   ],
   "source": [
    "x = np.array([0, 10, 20, 30, 40, 50])\n",
    "x"
   ]
  },
  {
   "cell_type": "markdown",
   "metadata": {},
   "source": [
    "### 2차원 배열 생성"
   ]
  },
  {
   "cell_type": "code",
   "execution_count": 12,
   "metadata": {},
   "outputs": [
    {
     "data": {
      "text/plain": [
       "array([[ 0,  1,  2],\n",
       "       [10, 11, 12]])"
      ]
     },
     "execution_count": 12,
     "metadata": {},
     "output_type": "execute_result"
    }
   ],
   "source": [
    "y = np.array([[0, 1, 2], \n",
    "              [10, 11, 12]])\n",
    "y"
   ]
  },
  {
   "cell_type": "code",
   "execution_count": 13,
   "metadata": {},
   "outputs": [
    {
     "name": "stdout",
     "output_type": "stream",
     "text": [
      "[[0 0 0]\n",
      " [0 0 0]]\n"
     ]
    }
   ],
   "source": [
    "# 기존 배열의 형상의 초기화 배열 생성\n",
    "z = np.zeros_like(y)\n",
    "print(z)"
   ]
  },
  {
   "cell_type": "markdown",
   "metadata": {},
   "source": [
    "### 1.2 배열간 산술 연산"
   ]
  },
  {
   "cell_type": "code",
   "execution_count": 14,
   "metadata": {},
   "outputs": [
    {
     "data": {
      "text/plain": [
       "array([[ 3,  0],\n",
       "       [ 0, 24]])"
      ]
     },
     "execution_count": 14,
     "metadata": {},
     "output_type": "execute_result"
    }
   ],
   "source": [
    "X = np.array([[1, 2],\n",
    "              [3, 4]])\n",
    "Y = np.array([[3, 0],\n",
    "              [0, 6]])\n",
    "X + Y\n",
    "X * Y"
   ]
  },
  {
   "cell_type": "markdown",
   "metadata": {},
   "source": [
    "## 1.3 벡터 내적"
   ]
  },
  {
   "cell_type": "code",
   "execution_count": 15,
   "metadata": {
    "scrolled": true
   },
   "outputs": [
    {
     "data": {
      "text/plain": [
       "14"
      ]
     },
     "execution_count": 15,
     "metadata": {},
     "output_type": "execute_result"
    }
   ],
   "source": [
    "X = np.array([1, 2, 3])\n",
    "Y = np.array([1, 2, 3])\n",
    "np.dot(X, Y)"
   ]
  },
  {
   "cell_type": "markdown",
   "metadata": {},
   "source": [
    "## 1.4 행렬곱"
   ]
  },
  {
   "cell_type": "code",
   "execution_count": 16,
   "metadata": {
    "scrolled": true
   },
   "outputs": [
    {
     "data": {
      "text/plain": [
       "array([[ 456, 1107],\n",
       "       [ 130,  323]])"
      ]
     },
     "execution_count": 16,
     "metadata": {},
     "output_type": "execute_result"
    }
   ],
   "source": [
    "# 행렬곱 사례 2 : 3x2 행렬 * 2x3 행렬\n",
    "X = np.array([[11, 21, 31],\n",
    "              [42, 5, 6]])\n",
    "Y = np.array([[1, 2],\n",
    "              [2, 31],\n",
    "              [13, 14]])\n",
    "\n",
    "np.dot(X, Y)"
   ]
  },
  {
   "cell_type": "markdown",
   "metadata": {},
   "source": [
    "\n",
    "\n"
   ]
  },
  {
   "cell_type": "code",
   "execution_count": 17,
   "metadata": {},
   "outputs": [],
   "source": [
    "timestamp()"
   ]
  },
  {
   "cell_type": "markdown",
   "metadata": {},
   "source": [
    "## 2. Matplotlib \n",
    "\n",
    ">    2.1 그래프 1   \n",
    ">    2.2 그래프 2   \n",
    ">    2.3 그래프 3     "
   ]
  },
  {
   "cell_type": "code",
   "execution_count": 18,
   "metadata": {},
   "outputs": [],
   "source": [
    "# matplot library\n",
    "import matplotlib.pyplot as plt"
   ]
  },
  {
   "cell_type": "markdown",
   "metadata": {},
   "source": [
    "### 2.1 그래프 1"
   ]
  },
  {
   "cell_type": "code",
   "execution_count": 19,
   "metadata": {
    "scrolled": true
   },
   "outputs": [
    {
     "data": {
      "image/png": "[encoded data removed]",
      "text/plain": [
       "<Figure size 800x400 with 1 Axes>"
      ]
     },
     "metadata": {},
     "output_type": "display_data"
    }
   ],
   "source": [
    "# 그래프 1\n",
    "plt.figure(figsize=(8,4))\n",
    "x = [10, 20, 30, 40]\n",
    "y = [1, 4, 9, 16]\n",
    "plt.plot(x, y, \"b--\")\n",
    "plt.plot(x, y, \"r^\")\n",
    "plt.grid(True, ls=\"--\", lw=1)\n",
    "plt.show()"
   ]
  },
  {
   "cell_type": "markdown",
   "metadata": {},
   "source": [
    "### 2.2 그래프 2"
   ]
  },
  {
   "cell_type": "code",
   "execution_count": 20,
   "metadata": {
    "scrolled": true
   },
   "outputs": [
    {
     "data": {
      "image/png": "[encoded data removed]",
      "text/plain": [
       "<Figure size 800x400 with 1 Axes>"
      ]
     },
     "metadata": {},
     "output_type": "display_data"
    }
   ],
   "source": [
    "plt.figure(figsize=(8,4))\n",
    "x = [10, 20, 30, 40]\n",
    "y = [1, 4, 9, 16]\n",
    "plt.plot(x, y, c=\"b\", lw=2, ls=\":\", ms=15, marker=\"o\", mew=5, mec=\"g\", mfc=\"r\")\n",
    "plt.grid(True, ls=\"--\", lw=1)\n",
    "plt.show()"
   ]
  },
  {
   "cell_type": "markdown",
   "metadata": {},
   "source": [
    "### 2.3 활성화 함수 그리기\n"
   ]
  },
  {
   "cell_type": "code",
   "execution_count": 21,
   "metadata": {
    "scrolled": false
   },
   "outputs": [
    {
     "data": {
      "image/png": "[encoded data removed]",
      "text/plain": [
       "<Figure size 640x480 with 1 Axes>"
      ]
     },
     "metadata": {},
     "output_type": "display_data"
    }
   ],
   "source": [
    "def sigmoid(x):\n",
    "    return 1 / (1 + np.exp(-x))\n",
    "\n",
    "def tanh(x):\n",
    "    return (np.exp(x)- np.exp(-x)) / (np.exp(x) + np.exp(-x))\n",
    "\n",
    "def relu(x):\n",
    "    return np.maximum(0, x)\n",
    "\n",
    "x = np.arange(-4.1, 4.1, 0.1)\n",
    "\n",
    "plt.plot(x, sigmoid(x), '-', label=\"Logistic sigmoid\")\n",
    "plt.plot(x, tanh(x), '--', label=\"Hyperbolic tangent\")\n",
    "plt.plot(x, relu(x), ':', label=\"ReLU\")\n",
    "\n",
    "plt.plot(0, sigmoid(0), 0, tanh(0), \"ko\")  # x = 0일 때의 함수값 표시\n",
    "\n",
    "plt.title(\"Activation functions\")\n",
    "\n",
    "plt.ylim(-1.5, 2.1)\n",
    "\n",
    "plt.grid(color='#BDBDBD', linestyle='-', linewidth=0.5)\n",
    "plt.legend()\n",
    "\n",
    "plt.show()"
   ]
  },
  {
   "cell_type": "markdown",
   "metadata": {},
   "source": [
    "\n"
   ]
  },
  {
   "cell_type": "code",
   "execution_count": 22,
   "metadata": {},
   "outputs": [],
   "source": [
    "timestamp()"
   ]
  },
  {
   "cell_type": "markdown",
   "metadata": {},
   "source": [
    "# 파트 3 : 신경망 구현 및 추론\n",
    ">\n",
    "> 신경망 구현에 필요한 함수\n",
    "> 신경망 구현 및 추론 \n",
    ">"
   ]
  },
  {
   "cell_type": "code",
   "execution_count": 23,
   "metadata": {},
   "outputs": [],
   "source": [
    "def sigmoid(x):\n",
    "    return 1 / (1 + np.exp(-x))\n",
    "\n",
    "def softmax(x):\n",
    "    max = np.max(x)\n",
    "    exp_x = np.exp(x - max)  # overflow를 방지\n",
    "    sum_exp_x = np.sum(exp_x)\n",
    "    y = exp_x / sum_exp_x\n",
    "    return y"
   ]
  },
  {
   "cell_type": "code",
   "execution_count": 24,
   "metadata": {
    "scrolled": true
   },
   "outputs": [
    {
     "name": "stdout",
     "output_type": "stream",
     "text": [
      "v1: [1.11 0.9  0.99]\n",
      "h1: [0.75212911 0.7109495  0.72908792]\n",
      "v2: [0.70903798 1.05158925]\n",
      "h2: [0.67018855 0.74107996]\n",
      "입력 :  [2.2 1.3]\n",
      "출력 :  [0.48228457 0.51771543]\n"
     ]
    }
   ],
   "source": [
    "## 1. Setting the weight of 2-layer neural network\n",
    "W1 = np.array([[0.4, 0.2, 0.3], [0.1, 0.2, 0.1]])\n",
    "b1 = np.array([0.1, 0.2, 0.2])\n",
    "\n",
    "W2 = np.array([[0.1, 0.4], [0.2, 0.3], [0.4, 0.6]])\n",
    "b2 = np.array([0.2, 0.1])\n",
    "\n",
    "## 2. Perform inference for an input patten\n",
    "x = np.array([2.2, 1.3]) # 입력 샘플\n",
    "\n",
    "# 계층 1 연산\n",
    "v1 = np.dot(x, W1) + b1\n",
    "h1 = sigmoid(v1)\n",
    "print(\"v1:\", v1), print(\"h1:\", h1)\n",
    "\n",
    "# 계층 2 연산\n",
    "v2 = np.dot(h1, W2) + b2\n",
    "h2 = sigmoid(v2)\n",
    "print(\"v2:\", v2), print(\"h2:\", h2)\n",
    "\n",
    "# 2.3 소프트맥스함수 적용\n",
    "y = softmax(h2)\n",
    "\n",
    "print(\"입력 : \", x)\n",
    "print(\"출력 : \", y)"
   ]
  },
  {
   "cell_type": "markdown",
   "metadata": {},
   "source": [
    "\n",
    "\n"
   ]
  },
  {
   "cell_type": "code",
   "execution_count": 25,
   "metadata": {},
   "outputs": [],
   "source": [
    "timestamp()"
   ]
  },
  {
   "cell_type": "markdown",
   "metadata": {},
   "source": [
    "### 이 부분은 강의 내용과 관계 없는 부분이지만 끝까지 실행시키세요(Timestamp와 Mac address hash code 인쇄)"
   ]
  },
  {
   "cell_type": "code",
   "execution_count": 26,
   "metadata": {},
   "outputs": [
    {
     "name": "stdout",
     "output_type": "stream",
     "text": [
      "2023년 4월 3일 20시 51분 56초\n",
      "2023년 4월 3일 20시 52분 47초\n",
      "2023년 4월 3일 20시 53분 56초\n",
      "2023년 4월 3일 20시 56분 7초\n",
      "2023년 4월 3일 20시 58분 14초\n"
     ]
    }
   ],
   "source": [
    "for i in a:\n",
    "    now = time.strftime('%Y년 %#m월 %#d일 %#H시 %#M분 %#S초', i)\n",
    "    print(now)"
   ]
  },
  {
   "cell_type": "code",
   "execution_count": 27,
   "metadata": {},
   "outputs": [
    {
     "name": "stdout",
     "output_type": "stream",
     "text": [
      "31719826\n"
     ]
    }
   ],
   "source": [
    "from uuid import getnode as get_mac\n",
    "mac = get_mac()\n",
    "mac_addr=str(mac)\n",
    "import hashlib\n",
    "hash_object= hashlib.sha1(mac_addr.encode('utf-8'))\n",
    "signature = int(hash_object.hexdigest(), 16) % 10**8\n",
    "print(str(signature))"
   ]
  },
  {
   "cell_type": "code",
   "execution_count": null,
   "metadata": {},
   "outputs": [],
   "source": []
  }
 ],
 "metadata": {
  "accelerator": "GPU",
  "colab": {
   "collapsed_sections": [],
   "name": "PyTorch_chapter1.ipynb",
   "provenance": [
    {
     "file_id": "1uoOWiCZ8I3qClWEt4N0A0EO0OjOjWZwf",
     "timestamp": 1543828054136
    }
   ],
   "version": "0.3.2"
  },
  "kernelspec": {
   "display_name": "Python 3 (ipykernel)",
   "language": "python",
   "name": "python3"
  },
  "language_info": {
   "codemirror_mode": {
    "name": "ipython",
    "version": 3
   },
   "file_extension": ".py",
   "mimetype": "text/x-python",
   "name": "python",
   "nbconvert_exporter": "python",
   "pygments_lexer": "ipython3",
   "version": "3.10.9"
  }
 },
 "nbformat": 4,
 "nbformat_minor": 1
}
